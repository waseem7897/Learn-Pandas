{
 "cells": [
  {
   "cell_type": "code",
   "execution_count": 1,
   "metadata": {},
   "outputs": [],
   "source": [
    "import pandas as pd"
   ]
  },
  {
   "cell_type": "code",
   "execution_count": 2,
   "metadata": {},
   "outputs": [
    {
     "name": "stdout",
     "output_type": "stream",
     "text": [
      "0    5\n",
      "1    4\n",
      "2    9\n",
      "3    4\n",
      "4    3\n",
      "5    8\n",
      "6    1\n",
      "dtype: int64\n"
     ]
    }
   ],
   "source": [
    "obj =pd.Series([5, 4, 9, 4, 3, 8, 1])\n",
    "print(obj)"
   ]
  },
  {
   "cell_type": "code",
   "execution_count": 3,
   "metadata": {},
   "outputs": [
    {
     "data": {
      "text/plain": [
       "4"
      ]
     },
     "execution_count": 3,
     "metadata": {},
     "output_type": "execute_result"
    }
   ],
   "source": [
    "obj[1]"
   ]
  },
  {
   "cell_type": "code",
   "execution_count": 4,
   "metadata": {},
   "outputs": [],
   "source": [
    "obj[4]=9"
   ]
  },
  {
   "cell_type": "code",
   "execution_count": 5,
   "metadata": {},
   "outputs": [
    {
     "data": {
      "text/plain": [
       "0    5\n",
       "1    4\n",
       "2    9\n",
       "3    4\n",
       "4    9\n",
       "5    8\n",
       "6    1\n",
       "dtype: int64"
      ]
     },
     "execution_count": 5,
     "metadata": {},
     "output_type": "execute_result"
    }
   ],
   "source": [
    "obj"
   ]
  },
  {
   "cell_type": "code",
   "execution_count": 6,
   "metadata": {},
   "outputs": [
    {
     "name": "stdout",
     "output_type": "stream",
     "text": [
      "[5 4 9 4 9 8 1]\n"
     ]
    }
   ],
   "source": [
    "print(obj.values)"
   ]
  },
  {
   "cell_type": "code",
   "execution_count": 7,
   "metadata": {},
   "outputs": [
    {
     "name": "stdout",
     "output_type": "stream",
     "text": [
      "RangeIndex(start=0, stop=7, step=1)\n"
     ]
    }
   ],
   "source": [
    "print(obj.index)"
   ]
  },
  {
   "cell_type": "code",
   "execution_count": 8,
   "metadata": {},
   "outputs": [
    {
     "name": "stdout",
     "output_type": "stream",
     "text": [
      "Mango      100\n",
      "Apple      500\n",
      "Banana     700\n",
      "Graphes    200\n",
      "peach      500\n",
      "dtype: int64\n"
     ]
    }
   ],
   "source": [
    "sales = pd.Series([100, 500, 700, 200, 500], index=[\"Mango\", \"Apple\", \"Banana\", \"Graphes\", \"peach\"] )\n",
    "print(sales)"
   ]
  },
  {
   "cell_type": "code",
   "execution_count": 9,
   "metadata": {},
   "outputs": [
    {
     "data": {
      "text/plain": [
       "100"
      ]
     },
     "execution_count": 9,
     "metadata": {},
     "output_type": "execute_result"
    }
   ],
   "source": [
    "sales[\"Mango\"]"
   ]
  },
  {
   "cell_type": "code",
   "execution_count": 10,
   "metadata": {},
   "outputs": [],
   "source": [
    "sales[\"Mango\"] = 700"
   ]
  },
  {
   "cell_type": "code",
   "execution_count": 11,
   "metadata": {},
   "outputs": [
    {
     "data": {
      "text/plain": [
       "Mango      700\n",
       "Apple      500\n",
       "Banana     700\n",
       "Graphes    200\n",
       "peach      500\n",
       "dtype: int64"
      ]
     },
     "execution_count": 11,
     "metadata": {},
     "output_type": "execute_result"
    }
   ],
   "source": [
    "sales"
   ]
  },
  {
   "cell_type": "code",
   "execution_count": 12,
   "metadata": {},
   "outputs": [],
   "source": [
    "sales[\"Name\"]= \"6 Month Sale\""
   ]
  },
  {
   "cell_type": "code",
   "execution_count": 13,
   "metadata": {},
   "outputs": [
    {
     "data": {
      "text/plain": [
       "Mango               700\n",
       "Apple               500\n",
       "Banana              700\n",
       "Graphes             200\n",
       "peach               500\n",
       "Name       6 Month Sale\n",
       "dtype: object"
      ]
     },
     "execution_count": 13,
     "metadata": {},
     "output_type": "execute_result"
    }
   ],
   "source": [
    "sales"
   ]
  },
  {
   "cell_type": "code",
   "execution_count": 14,
   "metadata": {},
   "outputs": [
    {
     "name": "stdout",
     "output_type": "stream",
     "text": [
      "Mon      700\n",
      "tues     400\n",
      "wed      600\n",
      "thurs    800\n",
      "fri      100\n",
      "sat      300\n",
      "Sun      400\n",
      "dtype: int64\n"
     ]
    }
   ],
   "source": [
    "weekly = pd.Series([700,400,600,800,100,300,400], index = [\"Mon\",\"tues\",\"wed\",\"thurs\",\"fri\",\"sat\",\"Sun\"])\n",
    "print(weekly)"
   ]
  },
  {
   "cell_type": "code",
   "execution_count": 15,
   "metadata": {},
   "outputs": [
    {
     "data": {
      "text/plain": [
       "400"
      ]
     },
     "execution_count": 15,
     "metadata": {},
     "output_type": "execute_result"
    }
   ],
   "source": [
    "weekly[\"tues\"]"
   ]
  },
  {
   "cell_type": "code",
   "execution_count": 16,
   "metadata": {},
   "outputs": [
    {
     "data": {
      "text/plain": [
       "400"
      ]
     },
     "execution_count": 16,
     "metadata": {},
     "output_type": "execute_result"
    }
   ],
   "source": [
    "weekly[1]"
   ]
  },
  {
   "cell_type": "code",
   "execution_count": 17,
   "metadata": {},
   "outputs": [
    {
     "data": {
      "text/plain": [
       "Mon    700\n",
       "wed    600\n",
       "dtype: int64"
      ]
     },
     "execution_count": 17,
     "metadata": {},
     "output_type": "execute_result"
    }
   ],
   "source": [
    "weekly[[\"Mon\",\"wed\"]]"
   ]
  },
  {
   "cell_type": "code",
   "execution_count": 18,
   "metadata": {},
   "outputs": [
    {
     "data": {
      "text/plain": [
       "Mon      700\n",
       "tues     400\n",
       "wed      600\n",
       "thurs    800\n",
       "sat      300\n",
       "Sun      400\n",
       "dtype: int64"
      ]
     },
     "execution_count": 18,
     "metadata": {},
     "output_type": "execute_result"
    }
   ],
   "source": [
    "weekly[weekly>200]"
   ]
  },
  {
   "cell_type": "code",
   "execution_count": 19,
   "metadata": {},
   "outputs": [
    {
     "data": {
      "text/plain": [
       "fri    100\n",
       "dtype: int64"
      ]
     },
     "execution_count": 19,
     "metadata": {},
     "output_type": "execute_result"
    }
   ],
   "source": [
    "weekly[weekly<200]"
   ]
  },
  {
   "cell_type": "code",
   "execution_count": 20,
   "metadata": {},
   "outputs": [
    {
     "data": {
      "text/plain": [
       "Mon      1400\n",
       "tues      800\n",
       "wed      1200\n",
       "thurs    1600\n",
       "fri       200\n",
       "sat       600\n",
       "Sun       800\n",
       "dtype: int64"
      ]
     },
     "execution_count": 20,
     "metadata": {},
     "output_type": "execute_result"
    }
   ],
   "source": [
    "weekly*2"
   ]
  },
  {
   "cell_type": "code",
   "execution_count": 21,
   "metadata": {},
   "outputs": [
    {
     "data": {
      "text/plain": [
       "Mon      700\n",
       "tues     400\n",
       "wed      600\n",
       "thurs    800\n",
       "fri      100\n",
       "sat      300\n",
       "Sun      400\n",
       "dtype: int64"
      ]
     },
     "execution_count": 21,
     "metadata": {},
     "output_type": "execute_result"
    }
   ],
   "source": [
    "weekly"
   ]
  },
  {
   "cell_type": "code",
   "execution_count": 22,
   "metadata": {},
   "outputs": [],
   "source": [
    "weekly = weekly*2"
   ]
  },
  {
   "cell_type": "code",
   "execution_count": 23,
   "metadata": {},
   "outputs": [
    {
     "data": {
      "text/plain": [
       "Mon      1400\n",
       "tues      800\n",
       "wed      1200\n",
       "thurs    1600\n",
       "fri       200\n",
       "sat       600\n",
       "Sun       800\n",
       "dtype: int64"
      ]
     },
     "execution_count": 23,
     "metadata": {},
     "output_type": "execute_result"
    }
   ],
   "source": [
    "weekly"
   ]
  },
  {
   "cell_type": "code",
   "execution_count": 24,
   "metadata": {},
   "outputs": [
    {
     "data": {
      "text/plain": [
       "True"
      ]
     },
     "execution_count": 24,
     "metadata": {},
     "output_type": "execute_result"
    }
   ],
   "source": [
    "\"Mon\" in weekly"
   ]
  },
  {
   "cell_type": "code",
   "execution_count": 25,
   "metadata": {},
   "outputs": [
    {
     "data": {
      "text/plain": [
       "a    2\n",
       "b    5\n",
       "c    9\n",
       "d    2\n",
       "e    3\n",
       "dtype: int32"
      ]
     },
     "execution_count": 25,
     "metadata": {},
     "output_type": "execute_result"
    }
   ],
   "source": [
    "import numpy as np\n",
    "ar = np.array([2,5,9,2,3])\n",
    "ind = np.array([\"a\",\"b\",\"c\",\"d\",\"e\"])\n",
    "\n",
    "obj1 = pd.Series(ar, index = ind)\n",
    "obj1"
   ]
  },
  {
   "cell_type": "code",
   "execution_count": 26,
   "metadata": {},
   "outputs": [
    {
     "name": "stdout",
     "output_type": "stream",
     "text": [
      "Name               Waseem\n",
      "Age                    35\n",
      "Qulaification    Gradaute\n",
      "Status            Married\n",
      "Kids                    1\n",
      "dtype: object\n"
     ]
    }
   ],
   "source": [
    "dic = {\"Name\":\"Waseem\",\"Age\":35,\"Qulaification\":\"Gradaute\",\"Status\":\"Married\",\"Kids\":1}\n",
    "Obj2 = pd.Series(dic)\n",
    "print(Obj2)"
   ]
  },
  {
   "cell_type": "code",
   "execution_count": 27,
   "metadata": {},
   "outputs": [
    {
     "data": {
      "text/plain": [
       "array(['Waseem', 35, 'Gradaute', 'Married', 1], dtype=object)"
      ]
     },
     "execution_count": 27,
     "metadata": {},
     "output_type": "execute_result"
    }
   ],
   "source": [
    "Obj2.values"
   ]
  },
  {
   "cell_type": "code",
   "execution_count": 28,
   "metadata": {},
   "outputs": [
    {
     "data": {
      "text/plain": [
       "Age                    35\n",
       "Name               Waseem\n",
       "Kids                    1\n",
       "Qulaification    Gradaute\n",
       "Status            Married\n",
       "dtype: object"
      ]
     },
     "execution_count": 28,
     "metadata": {},
     "output_type": "execute_result"
    }
   ],
   "source": [
    "Obj2 = pd.Series(dic, index = [\"Age\",\"Name\",\"Kids\",\"Qulaification\",\"Status\"])\n",
    "Obj2"
   ]
  },
  {
   "cell_type": "code",
   "execution_count": 29,
   "metadata": {},
   "outputs": [
    {
     "data": {
      "text/plain": [
       "Age                   38\n",
       "Name              Waseem\n",
       "Kids                   1\n",
       "Qulaification      B.com\n",
       "Status           Married\n",
       "dtype: object"
      ]
     },
     "execution_count": 29,
     "metadata": {},
     "output_type": "execute_result"
    }
   ],
   "source": [
    "dic = {\"Name\":\"Waseem\",\"Age\":38,\"Qulaification\":\"B.com\",\"Status\":\"Married\",\"Kids\":1}\n",
    "Obj2 = pd.Series(dic, index = [\"Age\",\"Name\",\"Kids\",\"Qulaification\",\"Status\"])\n",
    "Obj2"
   ]
  },
  {
   "cell_type": "code",
   "execution_count": 30,
   "metadata": {},
   "outputs": [
    {
     "data": {
      "text/plain": [
       "Age                   38\n",
       "Name              Waseem\n",
       "Kids                   1\n",
       "Qulaification      B.com\n",
       "Status           Married\n",
       "dtype: object"
      ]
     },
     "execution_count": 30,
     "metadata": {},
     "output_type": "execute_result"
    }
   ],
   "source": [
    "Obj2"
   ]
  },
  {
   "cell_type": "code",
   "execution_count": 31,
   "metadata": {},
   "outputs": [
    {
     "data": {
      "text/plain": [
       "a    2\n",
       "b    5\n",
       "c    9\n",
       "d    2\n",
       "e    3\n",
       "dtype: int32"
      ]
     },
     "execution_count": 31,
     "metadata": {},
     "output_type": "execute_result"
    }
   ],
   "source": [
    "obj1"
   ]
  },
  {
   "cell_type": "code",
   "execution_count": 32,
   "metadata": {},
   "outputs": [
    {
     "data": {
      "text/plain": [
       "Age                   38\n",
       "Name              Waseem\n",
       "Kids                   1\n",
       "Qulaification      B.com\n",
       "Status           Married\n",
       "email                NaN\n",
       "dtype: object"
      ]
     },
     "execution_count": 32,
     "metadata": {},
     "output_type": "execute_result"
    }
   ],
   "source": [
    "dic = {\"Name\":\"Waseem\",\"Age\":38,\"Qulaification\":\"B.com\",\"Status\":\"Married\",\"Kids\":1}\n",
    "Obj2 = pd.Series(dic, index = [\"Age\",\"Name\",\"Kids\",\"Qulaification\",\"Status\",\"email\"])\n",
    "Obj2"
   ]
  },
  {
   "cell_type": "code",
   "execution_count": 33,
   "metadata": {},
   "outputs": [
    {
     "data": {
      "text/plain": [
       "Age              False\n",
       "Name             False\n",
       "Kids             False\n",
       "Qulaification    False\n",
       "Status           False\n",
       "email             True\n",
       "dtype: bool"
      ]
     },
     "execution_count": 33,
     "metadata": {},
     "output_type": "execute_result"
    }
   ],
   "source": [
    "pd.isnull(Obj2)"
   ]
  },
  {
   "cell_type": "code",
   "execution_count": 34,
   "metadata": {},
   "outputs": [],
   "source": [
    "Obj2[\"email\"] = \"waseem.m.yaqoob@gmail.com\""
   ]
  },
  {
   "cell_type": "code",
   "execution_count": 35,
   "metadata": {},
   "outputs": [
    {
     "data": {
      "text/plain": [
       "Age                                     38\n",
       "Name                                Waseem\n",
       "Kids                                     1\n",
       "Qulaification                        B.com\n",
       "Status                             Married\n",
       "email            waseem.m.yaqoob@gmail.com\n",
       "dtype: object"
      ]
     },
     "execution_count": 35,
     "metadata": {},
     "output_type": "execute_result"
    }
   ],
   "source": [
    "Obj2"
   ]
  },
  {
   "cell_type": "code",
   "execution_count": 36,
   "metadata": {},
   "outputs": [],
   "source": [
    "Obj2.index.name = \"Person Name\""
   ]
  },
  {
   "cell_type": "code",
   "execution_count": 37,
   "metadata": {},
   "outputs": [
    {
     "data": {
      "text/plain": [
       "Person Name\n",
       "Age                                     38\n",
       "Name                                Waseem\n",
       "Kids                                     1\n",
       "Qulaification                        B.com\n",
       "Status                             Married\n",
       "email            waseem.m.yaqoob@gmail.com\n",
       "dtype: object"
      ]
     },
     "execution_count": 37,
     "metadata": {},
     "output_type": "execute_result"
    }
   ],
   "source": [
    "Obj2"
   ]
  },
  {
   "cell_type": "code",
   "execution_count": 38,
   "metadata": {},
   "outputs": [],
   "source": [
    "Obj2 = pd.Series(dic, index = [\"Name\",\"Age\",\"Status\",\"Qulaification\",\"Kids\",\"email\"])"
   ]
  },
  {
   "cell_type": "code",
   "execution_count": 39,
   "metadata": {},
   "outputs": [
    {
     "data": {
      "text/plain": [
       "Name              Waseem\n",
       "Age                   38\n",
       "Status           Married\n",
       "Qulaification      B.com\n",
       "Kids                   1\n",
       "email                NaN\n",
       "dtype: object"
      ]
     },
     "execution_count": 39,
     "metadata": {},
     "output_type": "execute_result"
    }
   ],
   "source": [
    "Obj2"
   ]
  },
  {
   "cell_type": "code",
   "execution_count": 40,
   "metadata": {},
   "outputs": [],
   "source": [
    "Obj2.index.name = \"Person Information\""
   ]
  },
  {
   "cell_type": "code",
   "execution_count": 41,
   "metadata": {},
   "outputs": [
    {
     "data": {
      "text/plain": [
       "Person Information\n",
       "Name              Waseem\n",
       "Age                   38\n",
       "Status           Married\n",
       "Qulaification      B.com\n",
       "Kids                   1\n",
       "email                NaN\n",
       "dtype: object"
      ]
     },
     "execution_count": 41,
     "metadata": {},
     "output_type": "execute_result"
    }
   ],
   "source": [
    "Obj2"
   ]
  },
  {
   "cell_type": "code",
   "execution_count": 42,
   "metadata": {},
   "outputs": [],
   "source": [
    "Obj2[\"email\"]= \"waseem.m.yaqoob@gmail.com\""
   ]
  },
  {
   "cell_type": "code",
   "execution_count": 43,
   "metadata": {},
   "outputs": [
    {
     "data": {
      "text/plain": [
       "Person Information\n",
       "Name                                Waseem\n",
       "Age                                     38\n",
       "Status                             Married\n",
       "Qulaification                        B.com\n",
       "Kids                                     1\n",
       "email            waseem.m.yaqoob@gmail.com\n",
       "dtype: object"
      ]
     },
     "execution_count": 43,
     "metadata": {},
     "output_type": "execute_result"
    }
   ],
   "source": [
    "Obj2"
   ]
  },
  {
   "cell_type": "code",
   "execution_count": 44,
   "metadata": {},
   "outputs": [
    {
     "name": "stdout",
     "output_type": "stream",
     "text": [
      "0    2\n",
      "1    4\n",
      "2    6\n",
      "3    7\n",
      "4    8\n",
      "dtype: int64 0    4\n",
      "1    5\n",
      "2    6\n",
      "3    1\n",
      "4    2\n",
      "dtype: int64\n"
     ]
    }
   ],
   "source": [
    "apple = pd.Series([2,4,6,7,8])\n",
    "orange = pd.Series([4,5,6,1,2])\n",
    "print(apple,orange)"
   ]
  },
  {
   "cell_type": "code",
   "execution_count": 45,
   "metadata": {},
   "outputs": [],
   "source": [
    "dic2 = {\"apples\":apple,\"Oranges\":orange}\n",
    "fruit = pd.DataFrame(dic2)"
   ]
  },
  {
   "cell_type": "code",
   "execution_count": 46,
   "metadata": {},
   "outputs": [
    {
     "data": {
      "text/html": [
       "<div>\n",
       "<style scoped>\n",
       "    .dataframe tbody tr th:only-of-type {\n",
       "        vertical-align: middle;\n",
       "    }\n",
       "\n",
       "    .dataframe tbody tr th {\n",
       "        vertical-align: top;\n",
       "    }\n",
       "\n",
       "    .dataframe thead th {\n",
       "        text-align: right;\n",
       "    }\n",
       "</style>\n",
       "<table border=\"1\" class=\"dataframe\">\n",
       "  <thead>\n",
       "    <tr style=\"text-align: right;\">\n",
       "      <th></th>\n",
       "      <th>apples</th>\n",
       "      <th>Oranges</th>\n",
       "    </tr>\n",
       "  </thead>\n",
       "  <tbody>\n",
       "    <tr>\n",
       "      <th>0</th>\n",
       "      <td>2</td>\n",
       "      <td>4</td>\n",
       "    </tr>\n",
       "    <tr>\n",
       "      <th>1</th>\n",
       "      <td>4</td>\n",
       "      <td>5</td>\n",
       "    </tr>\n",
       "    <tr>\n",
       "      <th>2</th>\n",
       "      <td>6</td>\n",
       "      <td>6</td>\n",
       "    </tr>\n",
       "    <tr>\n",
       "      <th>3</th>\n",
       "      <td>7</td>\n",
       "      <td>1</td>\n",
       "    </tr>\n",
       "    <tr>\n",
       "      <th>4</th>\n",
       "      <td>8</td>\n",
       "      <td>2</td>\n",
       "    </tr>\n",
       "  </tbody>\n",
       "</table>\n",
       "</div>"
      ],
      "text/plain": [
       "   apples  Oranges\n",
       "0       2        4\n",
       "1       4        5\n",
       "2       6        6\n",
       "3       7        1\n",
       "4       8        2"
      ]
     },
     "execution_count": 46,
     "metadata": {},
     "output_type": "execute_result"
    }
   ],
   "source": [
    "fruit"
   ]
  },
  {
   "cell_type": "code",
   "execution_count": 47,
   "metadata": {},
   "outputs": [
    {
     "name": "stdout",
     "output_type": "stream",
     "text": [
      "   Year            Passes            Grade\n",
      "0  2000            Matric                c\n",
      "1  2004             Inter                B\n",
      "2  2010             B.com  second Division\n",
      "3  2013  English Learning     Intermediate\n",
      "4  2019               A.I         Progress\n"
     ]
    }
   ],
   "source": [
    "Year = [2000,2004,2010,2013,2019]\n",
    "Passes = [\"Matric\",\"Inter\",\"B.com\",\"English Learning\",\"A.I\"]\n",
    "Grade = [\"c\",\"B\",\"second Division\",\"Intermediate\",\"Progress\"]\n",
    "Result ={\"Year\":Year, \"Passes\":Passes, \"Grade\":Grade}\n",
    "Data_person = pd.DataFrame(Result)\n",
    "print(Data_person)"
   ]
  },
  {
   "cell_type": "code",
   "execution_count": 48,
   "metadata": {},
   "outputs": [],
   "source": [
    "Data_person.index= [\"1st\",\"2nd\",\"3rd\",\"4th\",\"5th\"]"
   ]
  },
  {
   "cell_type": "code",
   "execution_count": 49,
   "metadata": {},
   "outputs": [
    {
     "data": {
      "text/html": [
       "<div>\n",
       "<style scoped>\n",
       "    .dataframe tbody tr th:only-of-type {\n",
       "        vertical-align: middle;\n",
       "    }\n",
       "\n",
       "    .dataframe tbody tr th {\n",
       "        vertical-align: top;\n",
       "    }\n",
       "\n",
       "    .dataframe thead th {\n",
       "        text-align: right;\n",
       "    }\n",
       "</style>\n",
       "<table border=\"1\" class=\"dataframe\">\n",
       "  <thead>\n",
       "    <tr style=\"text-align: right;\">\n",
       "      <th></th>\n",
       "      <th>Year</th>\n",
       "      <th>Passes</th>\n",
       "      <th>Grade</th>\n",
       "    </tr>\n",
       "  </thead>\n",
       "  <tbody>\n",
       "    <tr>\n",
       "      <th>1st</th>\n",
       "      <td>2000</td>\n",
       "      <td>Matric</td>\n",
       "      <td>c</td>\n",
       "    </tr>\n",
       "    <tr>\n",
       "      <th>2nd</th>\n",
       "      <td>2004</td>\n",
       "      <td>Inter</td>\n",
       "      <td>B</td>\n",
       "    </tr>\n",
       "    <tr>\n",
       "      <th>3rd</th>\n",
       "      <td>2010</td>\n",
       "      <td>B.com</td>\n",
       "      <td>second Division</td>\n",
       "    </tr>\n",
       "    <tr>\n",
       "      <th>4th</th>\n",
       "      <td>2013</td>\n",
       "      <td>English Learning</td>\n",
       "      <td>Intermediate</td>\n",
       "    </tr>\n",
       "    <tr>\n",
       "      <th>5th</th>\n",
       "      <td>2019</td>\n",
       "      <td>A.I</td>\n",
       "      <td>Progress</td>\n",
       "    </tr>\n",
       "  </tbody>\n",
       "</table>\n",
       "</div>"
      ],
      "text/plain": [
       "     Year            Passes            Grade\n",
       "1st  2000            Matric                c\n",
       "2nd  2004             Inter                B\n",
       "3rd  2010             B.com  second Division\n",
       "4th  2013  English Learning     Intermediate\n",
       "5th  2019               A.I         Progress"
      ]
     },
     "execution_count": 49,
     "metadata": {},
     "output_type": "execute_result"
    }
   ],
   "source": [
    "Data_person"
   ]
  },
  {
   "cell_type": "code",
   "execution_count": 50,
   "metadata": {},
   "outputs": [
    {
     "data": {
      "text/html": [
       "<div>\n",
       "<style scoped>\n",
       "    .dataframe tbody tr th:only-of-type {\n",
       "        vertical-align: middle;\n",
       "    }\n",
       "\n",
       "    .dataframe tbody tr th {\n",
       "        vertical-align: top;\n",
       "    }\n",
       "\n",
       "    .dataframe thead th {\n",
       "        text-align: right;\n",
       "    }\n",
       "</style>\n",
       "<table border=\"1\" class=\"dataframe\">\n",
       "  <thead>\n",
       "    <tr style=\"text-align: right;\">\n",
       "      <th></th>\n",
       "      <th>Year</th>\n",
       "      <th>Passes</th>\n",
       "      <th>Grade</th>\n",
       "    </tr>\n",
       "  </thead>\n",
       "  <tbody>\n",
       "    <tr>\n",
       "      <th>1st</th>\n",
       "      <td>2000</td>\n",
       "      <td>Matric</td>\n",
       "      <td>c</td>\n",
       "    </tr>\n",
       "    <tr>\n",
       "      <th>2nd</th>\n",
       "      <td>2004</td>\n",
       "      <td>Inter</td>\n",
       "      <td>B</td>\n",
       "    </tr>\n",
       "    <tr>\n",
       "      <th>3rd</th>\n",
       "      <td>2010</td>\n",
       "      <td>B.com</td>\n",
       "      <td>second Division</td>\n",
       "    </tr>\n",
       "    <tr>\n",
       "      <th>4th</th>\n",
       "      <td>2013</td>\n",
       "      <td>English Learning</td>\n",
       "      <td>Intermediate</td>\n",
       "    </tr>\n",
       "    <tr>\n",
       "      <th>5th</th>\n",
       "      <td>2019</td>\n",
       "      <td>A.I</td>\n",
       "      <td>Progress</td>\n",
       "    </tr>\n",
       "  </tbody>\n",
       "</table>\n",
       "</div>"
      ],
      "text/plain": [
       "     Year            Passes            Grade\n",
       "1st  2000            Matric                c\n",
       "2nd  2004             Inter                B\n",
       "3rd  2010             B.com  second Division\n",
       "4th  2013  English Learning     Intermediate\n",
       "5th  2019               A.I         Progress"
      ]
     },
     "execution_count": 50,
     "metadata": {},
     "output_type": "execute_result"
    }
   ],
   "source": [
    "Data_person.head()"
   ]
  },
  {
   "cell_type": "code",
   "execution_count": 51,
   "metadata": {},
   "outputs": [],
   "source": [
    "Data_person = pd.DataFrame(Result, columns = [\"Passes\",\"Grade\",\"Year\"])"
   ]
  },
  {
   "cell_type": "code",
   "execution_count": 52,
   "metadata": {},
   "outputs": [
    {
     "data": {
      "text/html": [
       "<div>\n",
       "<style scoped>\n",
       "    .dataframe tbody tr th:only-of-type {\n",
       "        vertical-align: middle;\n",
       "    }\n",
       "\n",
       "    .dataframe tbody tr th {\n",
       "        vertical-align: top;\n",
       "    }\n",
       "\n",
       "    .dataframe thead th {\n",
       "        text-align: right;\n",
       "    }\n",
       "</style>\n",
       "<table border=\"1\" class=\"dataframe\">\n",
       "  <thead>\n",
       "    <tr style=\"text-align: right;\">\n",
       "      <th></th>\n",
       "      <th>Passes</th>\n",
       "      <th>Grade</th>\n",
       "      <th>Year</th>\n",
       "    </tr>\n",
       "  </thead>\n",
       "  <tbody>\n",
       "    <tr>\n",
       "      <th>0</th>\n",
       "      <td>Matric</td>\n",
       "      <td>c</td>\n",
       "      <td>2000</td>\n",
       "    </tr>\n",
       "    <tr>\n",
       "      <th>1</th>\n",
       "      <td>Inter</td>\n",
       "      <td>B</td>\n",
       "      <td>2004</td>\n",
       "    </tr>\n",
       "    <tr>\n",
       "      <th>2</th>\n",
       "      <td>B.com</td>\n",
       "      <td>second Division</td>\n",
       "      <td>2010</td>\n",
       "    </tr>\n",
       "    <tr>\n",
       "      <th>3</th>\n",
       "      <td>English Learning</td>\n",
       "      <td>Intermediate</td>\n",
       "      <td>2013</td>\n",
       "    </tr>\n",
       "    <tr>\n",
       "      <th>4</th>\n",
       "      <td>A.I</td>\n",
       "      <td>Progress</td>\n",
       "      <td>2019</td>\n",
       "    </tr>\n",
       "  </tbody>\n",
       "</table>\n",
       "</div>"
      ],
      "text/plain": [
       "             Passes            Grade  Year\n",
       "0            Matric                c  2000\n",
       "1             Inter                B  2004\n",
       "2             B.com  second Division  2010\n",
       "3  English Learning     Intermediate  2013\n",
       "4               A.I         Progress  2019"
      ]
     },
     "execution_count": 52,
     "metadata": {},
     "output_type": "execute_result"
    }
   ],
   "source": [
    "Data_person"
   ]
  },
  {
   "cell_type": "code",
   "execution_count": 53,
   "metadata": {},
   "outputs": [],
   "source": [
    "Data_person=pd.DataFrame(Result, columns = [\"Passes\",\"Grade\",\"Year\",\"Number\"])"
   ]
  },
  {
   "cell_type": "code",
   "execution_count": 54,
   "metadata": {},
   "outputs": [
    {
     "data": {
      "text/html": [
       "<div>\n",
       "<style scoped>\n",
       "    .dataframe tbody tr th:only-of-type {\n",
       "        vertical-align: middle;\n",
       "    }\n",
       "\n",
       "    .dataframe tbody tr th {\n",
       "        vertical-align: top;\n",
       "    }\n",
       "\n",
       "    .dataframe thead th {\n",
       "        text-align: right;\n",
       "    }\n",
       "</style>\n",
       "<table border=\"1\" class=\"dataframe\">\n",
       "  <thead>\n",
       "    <tr style=\"text-align: right;\">\n",
       "      <th></th>\n",
       "      <th>Passes</th>\n",
       "      <th>Grade</th>\n",
       "      <th>Year</th>\n",
       "      <th>Number</th>\n",
       "    </tr>\n",
       "  </thead>\n",
       "  <tbody>\n",
       "    <tr>\n",
       "      <th>0</th>\n",
       "      <td>Matric</td>\n",
       "      <td>c</td>\n",
       "      <td>2000</td>\n",
       "      <td>NaN</td>\n",
       "    </tr>\n",
       "    <tr>\n",
       "      <th>1</th>\n",
       "      <td>Inter</td>\n",
       "      <td>B</td>\n",
       "      <td>2004</td>\n",
       "      <td>NaN</td>\n",
       "    </tr>\n",
       "    <tr>\n",
       "      <th>2</th>\n",
       "      <td>B.com</td>\n",
       "      <td>second Division</td>\n",
       "      <td>2010</td>\n",
       "      <td>NaN</td>\n",
       "    </tr>\n",
       "    <tr>\n",
       "      <th>3</th>\n",
       "      <td>English Learning</td>\n",
       "      <td>Intermediate</td>\n",
       "      <td>2013</td>\n",
       "      <td>NaN</td>\n",
       "    </tr>\n",
       "    <tr>\n",
       "      <th>4</th>\n",
       "      <td>A.I</td>\n",
       "      <td>Progress</td>\n",
       "      <td>2019</td>\n",
       "      <td>NaN</td>\n",
       "    </tr>\n",
       "  </tbody>\n",
       "</table>\n",
       "</div>"
      ],
      "text/plain": [
       "             Passes            Grade  Year Number\n",
       "0            Matric                c  2000    NaN\n",
       "1             Inter                B  2004    NaN\n",
       "2             B.com  second Division  2010    NaN\n",
       "3  English Learning     Intermediate  2013    NaN\n",
       "4               A.I         Progress  2019    NaN"
      ]
     },
     "execution_count": 54,
     "metadata": {},
     "output_type": "execute_result"
    }
   ],
   "source": [
    "Data_person"
   ]
  },
  {
   "cell_type": "code",
   "execution_count": 55,
   "metadata": {},
   "outputs": [
    {
     "data": {
      "text/plain": [
       "0              Matric\n",
       "1               Inter\n",
       "2               B.com\n",
       "3    English Learning\n",
       "4                 A.I\n",
       "Name: Passes, dtype: object"
      ]
     },
     "execution_count": 55,
     "metadata": {},
     "output_type": "execute_result"
    }
   ],
   "source": [
    "Data_person[\"Passes\"]"
   ]
  },
  {
   "cell_type": "code",
   "execution_count": 56,
   "metadata": {},
   "outputs": [
    {
     "data": {
      "text/plain": [
       "Passes    Matric\n",
       "Grade          c\n",
       "Year        2000\n",
       "Number       NaN\n",
       "Name: 0, dtype: object"
      ]
     },
     "execution_count": 56,
     "metadata": {},
     "output_type": "execute_result"
    }
   ],
   "source": [
    "Data_person.loc[0]"
   ]
  },
  {
   "cell_type": "code",
   "execution_count": 57,
   "metadata": {},
   "outputs": [
    {
     "data": {
      "text/plain": [
       "Passes    English Learning\n",
       "Grade         Intermediate\n",
       "Year                  2013\n",
       "Number                 NaN\n",
       "Name: 3, dtype: object"
      ]
     },
     "execution_count": 57,
     "metadata": {},
     "output_type": "execute_result"
    }
   ],
   "source": [
    "Data_person.loc[3]"
   ]
  },
  {
   "cell_type": "code",
   "execution_count": 58,
   "metadata": {},
   "outputs": [],
   "source": [
    "import numpy as np\n",
    "import pandas as pd"
   ]
  },
  {
   "cell_type": "code",
   "execution_count": 59,
   "metadata": {},
   "outputs": [
    {
     "name": "stdout",
     "output_type": "stream",
     "text": [
      "             b         d         e\n",
      "Love  2.067265 -0.347743 -1.104366\n",
      "Hate  0.152576 -0.028911 -0.662186\n",
      "care  0.625018 -0.831820 -0.241440\n",
      "Cute  0.362167  0.232641  0.759038\n"
     ]
    }
   ],
   "source": [
    "frame = frame = pd.DataFrame(np.random.randn(4,3),columns=list(\"bde\"),index = [\"Love\",\"Hate\",\"care\",\"Cute\"])\n",
    "print(frame)"
   ]
  },
  {
   "cell_type": "code",
   "execution_count": 60,
   "metadata": {},
   "outputs": [
    {
     "name": "stdout",
     "output_type": "stream",
     "text": [
      "             b         d         e\n",
      "Love  2.067265  0.347743  1.104366\n",
      "Hate  0.152576  0.028911  0.662186\n",
      "care  0.625018  0.831820  0.241440\n",
      "Cute  0.362167  0.232641  0.759038\n"
     ]
    }
   ],
   "source": [
    "frame = (np.abs(frame))\n",
    "print(frame)"
   ]
  },
  {
   "cell_type": "code",
   "execution_count": 61,
   "metadata": {},
   "outputs": [
    {
     "data": {
      "text/plain": [
       "0.02891054306845192"
      ]
     },
     "execution_count": 61,
     "metadata": {},
     "output_type": "execute_result"
    }
   ],
   "source": [
    "frame[\"d\"].min()"
   ]
  },
  {
   "cell_type": "code",
   "execution_count": 62,
   "metadata": {},
   "outputs": [
    {
     "data": {
      "text/plain": [
       "0.8318200897826921"
      ]
     },
     "execution_count": 62,
     "metadata": {},
     "output_type": "execute_result"
    }
   ],
   "source": [
    "frame[\"d\"].max()"
   ]
  },
  {
   "cell_type": "code",
   "execution_count": 63,
   "metadata": {},
   "outputs": [
    {
     "data": {
      "text/plain": [
       "-0.8029095467142402"
      ]
     },
     "execution_count": 63,
     "metadata": {},
     "output_type": "execute_result"
    }
   ],
   "source": [
    "frame[\"d\"].min() - frame[\"d\"].max()"
   ]
  },
  {
   "cell_type": "code",
   "execution_count": 64,
   "metadata": {},
   "outputs": [
    {
     "name": "stdout",
     "output_type": "stream",
     "text": [
      "<function <lambda> at 0x0000000008DDE950>\n"
     ]
    }
   ],
   "source": [
    "f= lambda x:x.max()-x.min()\n",
    "print(f)"
   ]
  },
  {
   "cell_type": "code",
   "execution_count": 65,
   "metadata": {},
   "outputs": [
    {
     "name": "stdout",
     "output_type": "stream",
     "text": [
      "b    1.914689\n",
      "d    0.802910\n",
      "e    0.862926\n",
      "dtype: float64\n"
     ]
    }
   ],
   "source": [
    "fd= frame.apply(f)\n",
    "print(fd)"
   ]
  },
  {
   "cell_type": "code",
   "execution_count": 66,
   "metadata": {},
   "outputs": [
    {
     "data": {
      "text/plain": [
       "Love    1.719522\n",
       "Hate    0.633276\n",
       "care    0.590380\n",
       "Cute    0.526397\n",
       "dtype: float64"
      ]
     },
     "execution_count": 66,
     "metadata": {},
     "output_type": "execute_result"
    }
   ],
   "source": [
    "frame.apply(f,axis = 1)"
   ]
  },
  {
   "cell_type": "code",
   "execution_count": 67,
   "metadata": {},
   "outputs": [],
   "source": [
    "def min_max(x):\n",
    "    minumum=x.min()\n",
    "    maximum=x.max()\n",
    "    return pd.Series([minumum,maximum()],index = [\"min\",\"max\"])"
   ]
  },
  {
   "cell_type": "code",
   "execution_count": 74,
   "metadata": {},
   "outputs": [],
   "source": [
    "data_df = pd.DataFrame(np.arange(16).reshape((4,4)),\n",
    "                     index=[\"Lahore\",\"Karachi\",\"Punjab\",\"Kashmir\"],\n",
    "                     columns=[\"One\",\"Two\",\"Three\",\"Four\"])"
   ]
  },
  {
   "cell_type": "code",
   "execution_count": 75,
   "metadata": {},
   "outputs": [
    {
     "data": {
      "text/html": [
       "<div>\n",
       "<style scoped>\n",
       "    .dataframe tbody tr th:only-of-type {\n",
       "        vertical-align: middle;\n",
       "    }\n",
       "\n",
       "    .dataframe tbody tr th {\n",
       "        vertical-align: top;\n",
       "    }\n",
       "\n",
       "    .dataframe thead th {\n",
       "        text-align: right;\n",
       "    }\n",
       "</style>\n",
       "<table border=\"1\" class=\"dataframe\">\n",
       "  <thead>\n",
       "    <tr style=\"text-align: right;\">\n",
       "      <th></th>\n",
       "      <th>One</th>\n",
       "      <th>Two</th>\n",
       "      <th>Three</th>\n",
       "      <th>Four</th>\n",
       "    </tr>\n",
       "  </thead>\n",
       "  <tbody>\n",
       "    <tr>\n",
       "      <th>Lahore</th>\n",
       "      <td>0</td>\n",
       "      <td>1</td>\n",
       "      <td>2</td>\n",
       "      <td>3</td>\n",
       "    </tr>\n",
       "    <tr>\n",
       "      <th>Karachi</th>\n",
       "      <td>4</td>\n",
       "      <td>5</td>\n",
       "      <td>6</td>\n",
       "      <td>7</td>\n",
       "    </tr>\n",
       "    <tr>\n",
       "      <th>Punjab</th>\n",
       "      <td>8</td>\n",
       "      <td>9</td>\n",
       "      <td>10</td>\n",
       "      <td>11</td>\n",
       "    </tr>\n",
       "    <tr>\n",
       "      <th>Kashmir</th>\n",
       "      <td>12</td>\n",
       "      <td>13</td>\n",
       "      <td>14</td>\n",
       "      <td>15</td>\n",
       "    </tr>\n",
       "  </tbody>\n",
       "</table>\n",
       "</div>"
      ],
      "text/plain": [
       "         One  Two  Three  Four\n",
       "Lahore     0    1      2     3\n",
       "Karachi    4    5      6     7\n",
       "Punjab     8    9     10    11\n",
       "Kashmir   12   13     14    15"
      ]
     },
     "execution_count": 75,
     "metadata": {},
     "output_type": "execute_result"
    }
   ],
   "source": [
    "data_df"
   ]
  },
  {
   "cell_type": "code",
   "execution_count": 77,
   "metadata": {},
   "outputs": [
    {
     "name": "stdout",
     "output_type": "stream",
     "text": [
      "Two      1\n",
      "Three    2\n",
      "Name: Lahore, dtype: int32\n"
     ]
    }
   ],
   "source": [
    "print(data_df.loc[\"Lahore\",[\"Two\",\"Three\"]])"
   ]
  },
  {
   "cell_type": "code",
   "execution_count": 78,
   "metadata": {},
   "outputs": [
    {
     "name": "stdout",
     "output_type": "stream",
     "text": [
      "Three    6\n",
      "Four     7\n",
      "One      4\n",
      "Name: Karachi, dtype: int32\n"
     ]
    }
   ],
   "source": [
    "print(data_df.iloc[1,[2,3,0]])"
   ]
  },
  {
   "cell_type": "code",
   "execution_count": 82,
   "metadata": {},
   "outputs": [
    {
     "name": "stdout",
     "output_type": "stream",
     "text": [
      "         One  Two\n",
      "Karachi    4    5\n",
      "Punjab     8    9\n",
      "Kashmir   12   13\n"
     ]
    }
   ],
   "source": [
    "print(data_df.iloc[1:,:2])"
   ]
  },
  {
   "cell_type": "code",
   "execution_count": 97,
   "metadata": {},
   "outputs": [
    {
     "name": "stdout",
     "output_type": "stream",
     "text": [
      "             b    d    e\n",
      "Karachi    0.0  1.0  2.0\n",
      "Lahore     3.0  4.0  5.0\n",
      "Islamabad  6.0  7.0  8.0\n",
      "             a     b     c\n",
      "Kashmir    0.0   1.0   2.0\n",
      "Karachi    3.0   4.0   5.0\n",
      "Hyderabad  6.0   7.0   8.0\n",
      "Multan     9.0  10.0  11.0\n"
     ]
    }
   ],
   "source": [
    "df1 = pd.DataFrame(np.arange(9.).reshape((3,3)),\n",
    "                   columns=list(\"bde\"),\n",
    "                   index=[\"Karachi\",\"Lahore\",\"Islamabad\",])\n",
    "df2 = pd.DataFrame(np.arange(12.).reshape((4,3)),\n",
    "                   columns=list(\"abc\"),\n",
    "                   index=[\"Kashmir\",\"Karachi\",\"Hyderabad\",\"Multan\"])\n",
    "print(df1)\n",
    "print(df2)"
   ]
  },
  {
   "cell_type": "code",
   "execution_count": 99,
   "metadata": {},
   "outputs": [
    {
     "name": "stdout",
     "output_type": "stream",
     "text": [
      "            a    b   c   d   e\n",
      "Hyderabad NaN  NaN NaN NaN NaN\n",
      "Islamabad NaN  NaN NaN NaN NaN\n",
      "Karachi   NaN  4.0 NaN NaN NaN\n",
      "Kashmir   NaN  NaN NaN NaN NaN\n",
      "Lahore    NaN  NaN NaN NaN NaN\n",
      "Multan    NaN  NaN NaN NaN NaN\n"
     ]
    }
   ],
   "source": [
    "df3 = df1 + df2\n",
    "print(df3)"
   ]
  },
  {
   "cell_type": "code",
   "execution_count": 101,
   "metadata": {},
   "outputs": [
    {
     "name": "stdout",
     "output_type": "stream",
     "text": [
      "             a     b     c    d    e\n",
      "Hyderabad  6.0   7.0   8.0  NaN  NaN\n",
      "Islamabad  NaN   6.0   NaN  7.0  8.0\n",
      "Karachi    3.0   4.0   5.0  1.0  2.0\n",
      "Kashmir    0.0   1.0   2.0  NaN  NaN\n",
      "Lahore     NaN   3.0   NaN  4.0  5.0\n",
      "Multan     9.0  10.0  11.0  NaN  NaN\n"
     ]
    }
   ],
   "source": [
    "df3=df1.add(df2,fill_value=0)\n",
    "print(df3)"
   ]
  },
  {
   "cell_type": "code",
   "execution_count": 102,
   "metadata": {},
   "outputs": [
    {
     "name": "stdout",
     "output_type": "stream",
     "text": [
      "   Year            Passes            Grade\n",
      "0  2000            Matric                c\n",
      "1  2004             Inter                B\n",
      "2  2010             B.com  second Division\n",
      "3  2013  English Learning     Intermediate\n",
      "4  2019               A.I         Progress\n"
     ]
    }
   ],
   "source": [
    "Year = [2000,2004,2010,2013,2019]\n",
    "Passes = [\"Matric\",\"Inter\",\"B.com\",\"English Learning\",\"A.I\"]\n",
    "Grade = [\"c\",\"B\",\"second Division\",\"Intermediate\",\"Progress\"]\n",
    "Result ={\"Year\":Year, \"Passes\":Passes, \"Grade\":Grade}\n",
    "Data_person = pd.DataFrame(Result)\n",
    "print(Data_person)"
   ]
  },
  {
   "cell_type": "code",
   "execution_count": 103,
   "metadata": {},
   "outputs": [
    {
     "name": "stdout",
     "output_type": "stream",
     "text": [
      "     Year            Passes            Grade\n",
      "1st  2000            Matric                c\n",
      "2nd  2004             Inter                B\n",
      "3rd  2010             B.com  second Division\n",
      "4th  2013  English Learning     Intermediate\n",
      "5th  2019               A.I         Progress\n"
     ]
    }
   ],
   "source": [
    "Data_person.index= [\"1st\",\"2nd\",\"3rd\",\"4th\",\"5th\"]\n",
    "print(Data_person)"
   ]
  },
  {
   "cell_type": "code",
   "execution_count": 115,
   "metadata": {},
   "outputs": [],
   "source": [
    "Data_person=pd.DataFrame(Result, columns = [\"Passes\",\"Grade\",\"Year\",\"Number\"])"
   ]
  },
  {
   "cell_type": "code",
   "execution_count": 118,
   "metadata": {},
   "outputs": [
    {
     "name": "stdout",
     "output_type": "stream",
     "text": [
      "             Passes            Grade  Year  Number\n",
      "0            Matric                c  2000       0\n",
      "1             Inter                B  2004       1\n",
      "2             B.com  second Division  2010       2\n",
      "3  English Learning     Intermediate  2013       3\n",
      "4               A.I         Progress  2019       4\n",
      "[0 1 2 3 4]\n"
     ]
    }
   ],
   "source": [
    "ln = (len(Data_person))\n",
    "print(Data_person)\n",
    "rng = np.arange(ln)\n",
    "print(rng)\n",
    "Data_person[\"Number\"]=rng\n"
   ]
  },
  {
   "cell_type": "code",
   "execution_count": 123,
   "metadata": {},
   "outputs": [
    {
     "name": "stdout",
     "output_type": "stream",
     "text": [
      "             Passes            Grade  Year  Number\n",
      "0            Matric                c  2000     1.5\n",
      "1             Inter                B  2004     2.5\n",
      "2             B.com  second Division  2010     3.5\n",
      "3  English Learning     Intermediate  2013     2.4\n",
      "4               A.I         Progress  2019     1.5\n"
     ]
    }
   ],
   "source": [
    "val = pd.Series([1.5,2.5,3.5,2.4,1.5],index = [0,1,2,3,4])\n",
    "Data_person[\"Number\"]=val\n",
    "print(Data_person)"
   ]
  },
  {
   "cell_type": "code",
   "execution_count": 124,
   "metadata": {},
   "outputs": [
    {
     "name": "stdout",
     "output_type": "stream",
     "text": [
      "             Passes            Grade  Year  Number\n",
      "0            Matric                c  2000     6.5\n",
      "1             Inter                B  2004     6.5\n",
      "2             B.com  second Division  2010     6.5\n",
      "3  English Learning     Intermediate  2013     6.5\n",
      "4               A.I         Progress  2019     6.5\n"
     ]
    }
   ],
   "source": [
    "Data_person[\"Number\"]=6.5\n",
    "print(Data_person)"
   ]
  },
  {
   "cell_type": "code",
   "execution_count": 125,
   "metadata": {},
   "outputs": [
    {
     "data": {
      "text/html": [
       "<div>\n",
       "<style scoped>\n",
       "    .dataframe tbody tr th:only-of-type {\n",
       "        vertical-align: middle;\n",
       "    }\n",
       "\n",
       "    .dataframe tbody tr th {\n",
       "        vertical-align: top;\n",
       "    }\n",
       "\n",
       "    .dataframe thead th {\n",
       "        text-align: right;\n",
       "    }\n",
       "</style>\n",
       "<table border=\"1\" class=\"dataframe\">\n",
       "  <thead>\n",
       "    <tr style=\"text-align: right;\">\n",
       "      <th></th>\n",
       "      <th>One</th>\n",
       "      <th>Two</th>\n",
       "      <th>Three</th>\n",
       "      <th>Four</th>\n",
       "    </tr>\n",
       "  </thead>\n",
       "  <tbody>\n",
       "    <tr>\n",
       "      <th>Lahore</th>\n",
       "      <td>0</td>\n",
       "      <td>1</td>\n",
       "      <td>2</td>\n",
       "      <td>3</td>\n",
       "    </tr>\n",
       "    <tr>\n",
       "      <th>Karachi</th>\n",
       "      <td>4</td>\n",
       "      <td>5</td>\n",
       "      <td>6</td>\n",
       "      <td>7</td>\n",
       "    </tr>\n",
       "    <tr>\n",
       "      <th>Punjab</th>\n",
       "      <td>8</td>\n",
       "      <td>9</td>\n",
       "      <td>10</td>\n",
       "      <td>11</td>\n",
       "    </tr>\n",
       "    <tr>\n",
       "      <th>Kashmir</th>\n",
       "      <td>12</td>\n",
       "      <td>13</td>\n",
       "      <td>14</td>\n",
       "      <td>15</td>\n",
       "    </tr>\n",
       "  </tbody>\n",
       "</table>\n",
       "</div>"
      ],
      "text/plain": [
       "         One  Two  Three  Four\n",
       "Lahore     0    1      2     3\n",
       "Karachi    4    5      6     7\n",
       "Punjab     8    9     10    11\n",
       "Kashmir   12   13     14    15"
      ]
     },
     "execution_count": 125,
     "metadata": {},
     "output_type": "execute_result"
    }
   ],
   "source": [
    "data_df"
   ]
  },
  {
   "cell_type": "code",
   "execution_count": 129,
   "metadata": {},
   "outputs": [
    {
     "data": {
      "text/html": [
       "<div>\n",
       "<style scoped>\n",
       "    .dataframe tbody tr th:only-of-type {\n",
       "        vertical-align: middle;\n",
       "    }\n",
       "\n",
       "    .dataframe tbody tr th {\n",
       "        vertical-align: top;\n",
       "    }\n",
       "\n",
       "    .dataframe thead th {\n",
       "        text-align: right;\n",
       "    }\n",
       "</style>\n",
       "<table border=\"1\" class=\"dataframe\">\n",
       "  <thead>\n",
       "    <tr style=\"text-align: right;\">\n",
       "      <th></th>\n",
       "      <th>One</th>\n",
       "      <th>Three</th>\n",
       "      <th>Four</th>\n",
       "    </tr>\n",
       "  </thead>\n",
       "  <tbody>\n",
       "    <tr>\n",
       "      <th>Lahore</th>\n",
       "      <td>0</td>\n",
       "      <td>2</td>\n",
       "      <td>3</td>\n",
       "    </tr>\n",
       "    <tr>\n",
       "      <th>Karachi</th>\n",
       "      <td>4</td>\n",
       "      <td>6</td>\n",
       "      <td>7</td>\n",
       "    </tr>\n",
       "    <tr>\n",
       "      <th>Punjab</th>\n",
       "      <td>8</td>\n",
       "      <td>10</td>\n",
       "      <td>11</td>\n",
       "    </tr>\n",
       "    <tr>\n",
       "      <th>Kashmir</th>\n",
       "      <td>12</td>\n",
       "      <td>14</td>\n",
       "      <td>15</td>\n",
       "    </tr>\n",
       "  </tbody>\n",
       "</table>\n",
       "</div>"
      ],
      "text/plain": [
       "         One  Three  Four\n",
       "Lahore     0      2     3\n",
       "Karachi    4      6     7\n",
       "Punjab     8     10    11\n",
       "Kashmir   12     14    15"
      ]
     },
     "execution_count": 129,
     "metadata": {},
     "output_type": "execute_result"
    }
   ],
   "source": [
    "data_df = data_df.drop(\"Two\",axis=1)\n",
    "data_df"
   ]
  },
  {
   "cell_type": "code",
   "execution_count": null,
   "metadata": {},
   "outputs": [],
   "source": []
  }
 ],
 "metadata": {
  "kernelspec": {
   "display_name": "Python 3",
   "language": "python",
   "name": "python3"
  },
  "language_info": {
   "codemirror_mode": {
    "name": "ipython",
    "version": 3
   },
   "file_extension": ".py",
   "mimetype": "text/x-python",
   "name": "python",
   "nbconvert_exporter": "python",
   "pygments_lexer": "ipython3",
   "version": "3.7.3"
  }
 },
 "nbformat": 4,
 "nbformat_minor": 2
}
